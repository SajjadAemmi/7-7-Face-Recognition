{
  "nbformat": 4,
  "nbformat_minor": 0,
  "metadata": {
    "colab": {
      "name": "Face_Recognition_Train.ipynb",
      "provenance": [],
      "collapsed_sections": []
    },
    "kernelspec": {
      "name": "python3",
      "display_name": "Python 3"
    },
    "accelerator": "GPU"
  },
  "cells": [
    {
      "cell_type": "code",
      "metadata": {
        "id": "U7G1GShLWNnC"
      },
      "source": [
        "from google.colab import drive\n",
        "drive.mount('/content/drive')"
      ],
      "execution_count": null,
      "outputs": []
    },
    {
      "cell_type": "code",
      "metadata": {
        "id": "YSUTN4E0TaBO"
      },
      "source": [
        "import numpy as np\n",
        "import cv2 as cv\n",
        "from tensorflow.keras.models import Sequential,Model\n",
        "from tensorflow.keras import layers\n",
        "from tensorflow.keras.optimizers import SGD,Adam\n",
        "from tensorflow.keras.preprocessing.image import ImageDataGenerator\n",
        "import tensorflow as tf\n",
        "import os\n",
        "from matplotlib import pyplot as plt"
      ],
      "execution_count": null,
      "outputs": []
    },
    {
      "cell_type": "markdown",
      "metadata": {
        "id": "ncl95UjGt7UB"
      },
      "source": [
        "#Preparing Dataset"
      ]
    },
    {
      "cell_type": "code",
      "metadata": {
        "id": "YmlBIkqmZBIL"
      },
      "source": [
        "dir= \"/content/drive/My Drive/datasets/7-7 dataset - faces\"\n",
        "width = height = 224\n",
        "batch_size = 32\n",
        "\n",
        "data_generator = ImageDataGenerator(\n",
        "    rescale=1./255,\n",
        "    rotation_range=20,\n",
        "    width_shift_range=0.05,\n",
        "    height_shift_range=0.05,\n",
        "    horizontal_flip=True,\n",
        "    # vertical_flip=True,\n",
        "    brightness_range=(0.8, 1.2),\n",
        "    fill_mode='reflect',\n",
        "    # preprocessing_function=face_detector,\n",
        "    validation_split=0.1)\n",
        "\n",
        "train_data = data_generator.flow_from_directory(\n",
        "    dir,\n",
        "    target_size=(width, height),\n",
        "    class_mode='categorical', \n",
        "    batch_size=batch_size,\n",
        "    subset='training',\n",
        "    shuffle=True\n",
        ")\n",
        "\n",
        "val_data = data_generator.flow_from_directory(\n",
        "    dir,\n",
        "    target_size=(width, height),\n",
        "    class_mode='categorical', \n",
        "    batch_size=batch_size,\n",
        "    subset='validation',\n",
        "    shuffle=True\n",
        ")"
      ],
      "execution_count": null,
      "outputs": []
    },
    {
      "cell_type": "code",
      "metadata": {
        "id": "SjYN6wCbuz_T"
      },
      "source": [
        "train_images = next(train_data)[0]\n",
        "plt.figure(figsize=(8,8)) # plot 16 images\n",
        "\n",
        "for i in range(16):\n",
        "    plt.subplot(4,4,i+1)\n",
        "    plt.xticks([])\n",
        "    plt.yticks([])\n",
        "    plt.grid(False)\n",
        "    plt.imshow(train_images[i], cmap=plt.cm.binary)"
      ],
      "execution_count": null,
      "outputs": []
    },
    {
      "cell_type": "markdown",
      "metadata": {
        "id": "qNkzB2n4uBqO"
      },
      "source": [
        "#Create Model"
      ]
    },
    {
      "cell_type": "markdown",
      "metadata": {
        "id": "eFfmxnbiuapO"
      },
      "source": [
        "Option 1"
      ]
    },
    {
      "cell_type": "code",
      "metadata": {
        "id": "_rRC9FTC58lJ"
      },
      "source": [
        "base_model = tf.keras.applications.MobileNetV2(\n",
        "    input_shape=(width, height, 3),\n",
        "    include_top=False,\n",
        "    weights=\"imagenet\",\n",
        "    input_tensor=None,\n",
        "    pooling='avg'\n",
        ")"
      ],
      "execution_count": null,
      "outputs": []
    },
    {
      "cell_type": "code",
      "metadata": {
        "id": "H23JuEMyu31s"
      },
      "source": [
        "for layer in base_model.layers[:-4]:\n",
        "    layer.trainable = False"
      ],
      "execution_count": null,
      "outputs": []
    },
    {
      "cell_type": "code",
      "metadata": {
        "id": "R_1dB7DY8MGy"
      },
      "source": [
        "base_model.summary()"
      ],
      "execution_count": null,
      "outputs": []
    },
    {
      "cell_type": "code",
      "metadata": {
        "id": "_IWtBpL-8Pqq"
      },
      "source": [
        "model = tf.keras.Sequential([\n",
        "    base_model,\n",
        "    layers.Dropout(0.5),\n",
        "    layers.Dense(train_data.num_classes, activation='softmax')\n",
        "])"
      ],
      "execution_count": null,
      "outputs": []
    },
    {
      "cell_type": "markdown",
      "metadata": {
        "id": "5ntqCy5YueWD"
      },
      "source": [
        "Option 2"
      ]
    },
    {
      "cell_type": "code",
      "metadata": {
        "id": "yhSUnMRqZ4ZR"
      },
      "source": [
        "model = tf.keras.models.load_model('/content/drive/My Drive/saved_model')"
      ],
      "execution_count": null,
      "outputs": []
    },
    {
      "cell_type": "code",
      "metadata": {
        "id": "eTE8RXeT9xlz"
      },
      "source": [
        "model.summary()"
      ],
      "execution_count": null,
      "outputs": []
    },
    {
      "cell_type": "markdown",
      "metadata": {
        "id": "5xAvDZ8Vuizo"
      },
      "source": [
        "#Train Model"
      ]
    },
    {
      "cell_type": "code",
      "metadata": {
        "id": "Imd4dDhw95Vg"
      },
      "source": [
        "model.compile(\n",
        "    loss=tf.keras.losses.categorical_crossentropy,\n",
        "    optimizer=tf.keras.optimizers.RMSprop(lr=1e-4),\n",
        "    # optimizer=tf.keras.optimizers.Adam(learning_rate=0.0001),\n",
        "    # optimizer=tf.keras.optimizers.Adadelta(learning_rate=0.0001),\n",
        "    metrics='accuracy'\n",
        ")"
      ],
      "execution_count": null,
      "outputs": []
    },
    {
      "cell_type": "code",
      "metadata": {
        "id": "p0kSAOFS_-eq"
      },
      "source": [
        "#train\n",
        "history = model.fit(\n",
        "    train_data,\n",
        "    steps_per_epoch=train_data.samples // batch_size,\n",
        "    validation_data=val_data,\n",
        "    validation_steps=val_data.samples // batch_size,\n",
        "    epochs=32,\n",
        "    shuffle=True\n",
        ")"
      ],
      "execution_count": null,
      "outputs": []
    },
    {
      "cell_type": "code",
      "metadata": {
        "id": "Yq703PyJ-b9s"
      },
      "source": [
        "from matplotlib import pyplot as plt\n",
        "\n",
        "plt.plot(history.history['loss'], label=\"Train\")\n",
        "plt.plot(history.history['val_loss'], label=\"Validation\")\n",
        "plt.legend(loc='best')\n",
        "plt.xlabel('Epochs', fontsize=16)\n",
        "plt.ylabel('Loss', fontsize=16)\n",
        "plt.grid()\n",
        "plt.show()\n",
        "\n",
        "plt.plot(history.history['accuracy'], label=\"Train\")\n",
        "plt.plot(history.history['val_accuracy'], label=\"Validation\")\n",
        "plt.legend(loc='best')\n",
        "plt.xlabel('Epochs', fontsize=16)\n",
        "plt.ylabel('Accuracy', fontsize=16)\n",
        "plt.grid()\n",
        "plt.show()"
      ],
      "execution_count": null,
      "outputs": []
    },
    {
      "cell_type": "markdown",
      "metadata": {
        "id": "q3GMdZ66unjT"
      },
      "source": [
        "#Test Model"
      ]
    },
    {
      "cell_type": "code",
      "metadata": {
        "id": "LT1uIElNIDZ7"
      },
      "source": [
        "score = model.evaluate(val_data)\n",
        "print(score)"
      ],
      "execution_count": null,
      "outputs": []
    },
    {
      "cell_type": "code",
      "metadata": {
        "id": "7xA1RiScd9lf"
      },
      "source": [
        "import urllib.request\n",
        "\n",
        "image_url = 'https://s.france24.com/media/display/a89f55a2-abff-11ea-b263-005056bff430/w:1280/p:16x9/2020-06-10T224534Z_26952549_RC2K6H9AXPGB_RTRMADP_3_MINNEAPOLIS-POLICE-TRUMP.webp'\n",
        "urllib.request.urlretrieve(image_url, 'person.jpg')"
      ],
      "execution_count": null,
      "outputs": []
    },
    {
      "cell_type": "code",
      "metadata": {
        "id": "r5dNmFhUYqi2"
      },
      "source": [
        "!pip install mtcnn"
      ],
      "execution_count": null,
      "outputs": []
    },
    {
      "cell_type": "code",
      "metadata": {
        "id": "SIFmynQTVRWy"
      },
      "source": [
        "from mtcnn.mtcnn import MTCNN\n",
        "import cv2\n",
        "\n",
        "detector = MTCNN()\n",
        "\n",
        "image = cv2.imread(\"person.jpg\")\n",
        "result = detector.detect_faces(image)\n",
        "bounding_box = result[0]['box']\n",
        "keypoints = result[0]['keypoints']\n",
        "\n",
        "print(bounding_box)\n",
        "print(keypoints)\n",
        "\n",
        "x = bounding_box[0]\n",
        "y = bounding_box[1]\n",
        "w = bounding_box[2]\n",
        "h = bounding_box[3]\n",
        "\n",
        "a = max(w, h)\n",
        "center_x = x + w//2\n",
        "center_y = y + h//2\n",
        "\n",
        "x = center_x - a//2\n",
        "y = center_y - a//2\n",
        "\n",
        "img_face = image[y:y+a, x:x+a]\n",
        "\n",
        "plt.imshow(img_face)"
      ],
      "execution_count": null,
      "outputs": []
    },
    {
      "cell_type": "code",
      "metadata": {
        "id": "elHoNZY1btcB"
      },
      "source": [
        "import cv2 as cv\n",
        "\n",
        "# img = cv2.imread(\"person.jpg\")\n",
        "img = img_face\n",
        "img = cv.cvtColor(img, cv.COLOR_BGR2RGB)\n",
        "img = cv.resize(img, (224, 224))\n",
        "img = img / 255.0\n",
        "img = img.reshape(1, 224, 224, 3)\n",
        "\n",
        "output = model.predict(img)\n",
        "print(output)\n",
        "print('probability', np.max(output))\n",
        "print('class index', np.argmax(output))\n",
        "\n",
        "labels = list(train_data.class_indices.keys())\n",
        "print('class label', labels[np.argmax(output)])"
      ],
      "execution_count": null,
      "outputs": []
    },
    {
      "cell_type": "code",
      "metadata": {
        "id": "6zIsf1J7Vk2X"
      },
      "source": [
        "model.save('/content/drive/My Drive/saved_model')"
      ],
      "execution_count": null,
      "outputs": []
    }
  ]
}